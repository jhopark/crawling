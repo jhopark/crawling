{
 "cells": [
  {
   "cell_type": "code",
   "execution_count": 1,
   "metadata": {},
   "outputs": [],
   "source": [
    "# requests는 작은 웹브라우저로 웹사이트 내용을 가져온다 \n",
    "import requests\n",
    "# BeautifulSoup을 통해 읽어온 웹페이지를 파싱한다\n",
    "from bs4 import BeautifulSoup as bs\n",
    "# random은 시간차를 두고 가져오기 위해 사용한다\n",
    "import random\n",
    "# time으로 시간을 구한다\n",
    "import time\n",
    "# 크롤링 후 결과를 데이터프레임 형태로 보기 위해 불러온다.\n",
    "import pandas as pd"
   ]
  },
  {
   "cell_type": "code",
   "execution_count": 2,
   "metadata": {},
   "outputs": [],
   "source": [
    "# 크롤링 할 사이트\n",
    "base_url = 'https://www.bikeseoul.com/app/station/moveStationSearchView.do?currentPageNo='\n",
    "\n",
    "# 전체 대여소 정보를 담아줄 비어있는 리스트를 만든다.\n",
    "all_stations = []\n",
    "\n",
    "def crawling_rent_station(pnum):\n",
    "    response = requests.get( base_url + str(pnum))\n",
    "        \n",
    "    if response.status_code != 200:\n",
    "        return False\n",
    "    \n",
    "    soup = bs(response.text, 'html.parser')\n",
    "    tbody = soup.select('table.psboard1 > tbody')\n",
    "    \n",
    "    if not tbody:\n",
    "        return False\n",
    "    \n",
    "    # response의 tbody 값을 전달해 각 대여소의 상세 정보를 받아온다.\n",
    "    stations = station_info(tbody)\n",
    "    # www.bikeseoul.com 사이트의 서버에 부담을 덜 주기 위해 시간차를 두고 가져온다.\n",
    "    time.sleep(random.uniform(1,3))\n",
    "    if stations:\n",
    "        # 크롤링 해서 가져온 대여소 정보를 리스트에 담아 줍니다.\n",
    "        all_stations.extend(stations)\n",
    "\n",
    "        # 이전 결과가 있다면 페이지번호를 하나씩 더해서 재귀호출을 한다.\n",
    "        pnum += 1\n",
    "        # 몇 페이지를 크롤링 하고 있는지 찍어본다. \n",
    "        # 다 찍기엔 너무 많아서 10페이지에 한 번씩 출력하도록 한다.\n",
    "        # 페이지 수를 크롤링 하기 전에 미리 알고 크롤링을 한다면 tqdm을 사용하는 것이 좋다.\n",
    "        # 2019년 8월 자전거 대여소 페이지수는 307개 이다.\n",
    "        if pnum % 10 == 0 :\n",
    "            print(pnum)\n",
    "\n",
    "        # 같은 함수를 재귀호출해서 실행한다.\n",
    "        return crawling_rent_station(pnum)\n",
    "    else:\n",
    "        return all_stations"
   ]
  },
  {
   "cell_type": "code",
   "execution_count": 3,
   "metadata": {},
   "outputs": [],
   "source": [
    "def station_info(tbody):\n",
    "    if tbody: \n",
    "        trs = tbody[0].find_all('tr')\n",
    "        rent_stations = []\n",
    "        for tr in trs:\n",
    "            # 대여소 정보를 담아준다.\n",
    "            info = []\n",
    "            # 대여소명\n",
    "            name = tr.select('td.pl10')[0].get_text(strip=True)\n",
    "            if '.' in name:\n",
    "                info.append(name.split('.')[0].strip())\n",
    "                info.append(name.split('.')[-1].lstrip())\n",
    "            else:\n",
    "                # 대여소 정보가 없다면 결측치로 처리한다.\n",
    "                info.append(pd.np.nan)\n",
    "                info.append(name)\n",
    "            # 운영여부\n",
    "            info.append(tr.select('td.pl10')[1].get_text(strip=True))\n",
    "            # 주소\n",
    "            info.append(tr.select('td.mhid')[0].get_text(strip=True))\n",
    "            # 위도, 경도\n",
    "            geo = tr.find('a')['param-data'].split(',')\n",
    "            info.append(geo[0])\n",
    "            info.append(geo[1])\n",
    "            rent_stations.append(info)\n",
    "        return rent_stations\n",
    "    else :\n",
    "        return False"
   ]
  },
  {
   "cell_type": "code",
   "execution_count": 4,
   "metadata": {},
   "outputs": [
    {
     "data": {
      "text/plain": [
       "[['964',\n",
       "  '북한산힐스테이트 7차아파트',\n",
       "  '운영중',\n",
       "  '서울특별시 은평구 통일로 796 북한산 힐스테이트7차',\n",
       "  '37.61654282',\n",
       "  '126.92512512'],\n",
       " ['965',\n",
       "  '서울특별시 은평병원',\n",
       "  '운영중',\n",
       "  '서울특별시 은평구 백련산로 90 서울특별시 은평병원',\n",
       "  '37.59347916',\n",
       "  '126.92318726'],\n",
       " ['966',\n",
       "  '서울혁신파크1',\n",
       "  '운영중',\n",
       "  '서울특별시 은평구 통일로 684 서울혁신파크1',\n",
       "  '37.60903168',\n",
       "  '126.93467712'],\n",
       " ['967',\n",
       "  '서울혁신파크2',\n",
       "  '운영중',\n",
       "  '서울특별시 은평구 통일로 684 서울혁신파크2',\n",
       "  '37.60890961',\n",
       "  '126.93241882'],\n",
       " ['968',\n",
       "  '은평뉴타운 상림마을 13단지',\n",
       "  '운영중',\n",
       "  '서울특별시 은평구 진관4로 48-50 은평뉴타운 상림마을 13단지',\n",
       "  '37.64208984',\n",
       "  '126.92941284'],\n",
       " ['969',\n",
       "  '은평 지웰테라스',\n",
       "  '운영중',\n",
       "  '서울특별시 은평구 진관4로 78-38 은평 지웰테라스',\n",
       "  '37.64385986',\n",
       "  '126.93187714'],\n",
       " ['971',\n",
       "  '역촌 센트레빌 아파트',\n",
       "  '운영중',\n",
       "  '서울특별시 은평구 갈현로3나길 23 역촌 센트레빌 아파트 107동 인근',\n",
       "  '37.60232925',\n",
       "  '126.90654755'],\n",
       " ['972', '수색역', '운영중', '서울특별시 은평구 수색로 261 수색역', '37.58216095', '126.89492798'],\n",
       " ['9996',\n",
       "  '시설2',\n",
       "  '운영중',\n",
       "  '서울특별시 성동구 청계천로 540 서울시설공단 공공자전거 운영처',\n",
       "  '0.00000000',\n",
       "  '0.00000000'],\n",
       " ['99998',\n",
       "  '상암단말정비',\n",
       "  '운영중',\n",
       "  '서울특별시 서대문구 연세로5나길 19 53-47',\n",
       "  '-87.39414978',\n",
       "  '51.31660461'],\n",
       " [nan, '위트콤', '운영중', '서울특별시 서초구 방배로 110 위트콤', '0.00000000', '0.00000000'],\n",
       " [nan,\n",
       "  '위트콤공장',\n",
       "  '운영중',\n",
       "  '서울특별시 서초구 방배로 110 석교빌딩 4층',\n",
       "  '0.00000000',\n",
       "  '0.00000000']]"
      ]
     },
     "execution_count": 4,
     "metadata": {},
     "output_type": "execute_result"
    }
   ],
   "source": [
    "crawling_rent_station(304)"
   ]
  },
  {
   "cell_type": "code",
   "execution_count": 5,
   "metadata": {},
   "outputs": [
    {
     "data": {
      "text/plain": [
       "['965',\n",
       " '서울특별시 은평병원',\n",
       " '운영중',\n",
       " '서울특별시 은평구 백련산로 90 서울특별시 은평병원',\n",
       " '37.59347916',\n",
       " '126.92318726']"
      ]
     },
     "execution_count": 5,
     "metadata": {},
     "output_type": "execute_result"
    }
   ],
   "source": [
    "all_stations[1]"
   ]
  },
  {
   "cell_type": "code",
   "execution_count": 6,
   "metadata": {},
   "outputs": [
    {
     "data": {
      "text/html": [
       "<div>\n",
       "<style scoped>\n",
       "    .dataframe tbody tr th:only-of-type {\n",
       "        vertical-align: middle;\n",
       "    }\n",
       "\n",
       "    .dataframe tbody tr th {\n",
       "        vertical-align: top;\n",
       "    }\n",
       "\n",
       "    .dataframe thead th {\n",
       "        text-align: right;\n",
       "    }\n",
       "</style>\n",
       "<table border=\"1\" class=\"dataframe\">\n",
       "  <thead>\n",
       "    <tr style=\"text-align: right;\">\n",
       "      <th></th>\n",
       "      <th>0</th>\n",
       "      <th>1</th>\n",
       "      <th>2</th>\n",
       "      <th>3</th>\n",
       "      <th>4</th>\n",
       "      <th>5</th>\n",
       "    </tr>\n",
       "  </thead>\n",
       "  <tbody>\n",
       "    <tr>\n",
       "      <th>4</th>\n",
       "      <td>968</td>\n",
       "      <td>은평뉴타운 상림마을 13단지</td>\n",
       "      <td>운영중</td>\n",
       "      <td>서울특별시 은평구 진관4로 48-50 은평뉴타운 상림마을 13단지</td>\n",
       "      <td>37.64208984</td>\n",
       "      <td>126.92941284</td>\n",
       "    </tr>\n",
       "  </tbody>\n",
       "</table>\n",
       "</div>"
      ],
      "text/plain": [
       "     0                1    2                                     3  \\\n",
       "4  968  은평뉴타운 상림마을 13단지  운영중  서울특별시 은평구 진관4로 48-50 은평뉴타운 상림마을 13단지   \n",
       "\n",
       "             4             5  \n",
       "4  37.64208984  126.92941284  "
      ]
     },
     "execution_count": 6,
     "metadata": {},
     "output_type": "execute_result"
    }
   ],
   "source": [
    "pd.DataFrame(all_stations).sample()"
   ]
  },
  {
   "cell_type": "code",
   "execution_count": 7,
   "metadata": {},
   "outputs": [
    {
     "data": {
      "text/plain": [
       "[[nan, '위트콤', '운영중', '서울특별시 서초구 방배로 110 위트콤', '0.00000000', '0.00000000'],\n",
       " [nan,\n",
       "  '위트콤공장',\n",
       "  '운영중',\n",
       "  '서울특별시 서초구 방배로 110 석교빌딩 4층',\n",
       "  '0.00000000',\n",
       "  '0.00000000']]"
      ]
     },
     "execution_count": 7,
     "metadata": {},
     "output_type": "execute_result"
    }
   ],
   "source": [
    "# 전체 코드를 돌리기 전에 다시 리스트를 비워준다.\n",
    "all_stations = []\n",
    "# 아래의 pnum에 1을 입력하면 1페이지부터 끝까지 가져온다.\n",
    "# pnum에 306 을 306페이지부터 끝까지 가져온다.\n",
    "# pnum = 1\n",
    "pnum = 306\n",
    "# 크롤링 함수를 호출한다.\n",
    "crawling_rent_station(pnum)"
   ]
  },
  {
   "cell_type": "code",
   "execution_count": 8,
   "metadata": {},
   "outputs": [
    {
     "data": {
      "text/plain": [
       "[[nan, '위트콤', '운영중', '서울특별시 서초구 방배로 110 위트콤', '0.00000000', '0.00000000'],\n",
       " [nan,\n",
       "  '위트콤공장',\n",
       "  '운영중',\n",
       "  '서울특별시 서초구 방배로 110 석교빌딩 4층',\n",
       "  '0.00000000',\n",
       "  '0.00000000']]"
      ]
     },
     "execution_count": 8,
     "metadata": {},
     "output_type": "execute_result"
    }
   ],
   "source": [
    "# 크롤링한 전체 결과를 프린트 한다.\n",
    "all_stations[:2]"
   ]
  },
  {
   "cell_type": "code",
   "execution_count": 9,
   "metadata": {},
   "outputs": [
    {
     "data": {
      "text/plain": [
       "(2, 6)"
      ]
     },
     "execution_count": 9,
     "metadata": {},
     "output_type": "execute_result"
    }
   ],
   "source": [
    "header = ['대여소번호', '대여소', '상태', '주소', '위도', '경도']\n",
    "df = pd.DataFrame.from_records(all_stations, columns = header)\n",
    "df.shape"
   ]
  },
  {
   "cell_type": "code",
   "execution_count": 10,
   "metadata": {},
   "outputs": [
    {
     "data": {
      "text/html": [
       "<div>\n",
       "<style scoped>\n",
       "    .dataframe tbody tr th:only-of-type {\n",
       "        vertical-align: middle;\n",
       "    }\n",
       "\n",
       "    .dataframe tbody tr th {\n",
       "        vertical-align: top;\n",
       "    }\n",
       "\n",
       "    .dataframe thead th {\n",
       "        text-align: right;\n",
       "    }\n",
       "</style>\n",
       "<table border=\"1\" class=\"dataframe\">\n",
       "  <thead>\n",
       "    <tr style=\"text-align: right;\">\n",
       "      <th></th>\n",
       "      <th>대여소번호</th>\n",
       "      <th>대여소</th>\n",
       "      <th>상태</th>\n",
       "      <th>주소</th>\n",
       "      <th>위도</th>\n",
       "      <th>경도</th>\n",
       "    </tr>\n",
       "  </thead>\n",
       "  <tbody>\n",
       "    <tr>\n",
       "      <th>0</th>\n",
       "      <td>NaN</td>\n",
       "      <td>위트콤</td>\n",
       "      <td>운영중</td>\n",
       "      <td>서울특별시 서초구 방배로 110 위트콤</td>\n",
       "      <td>0.00000000</td>\n",
       "      <td>0.00000000</td>\n",
       "    </tr>\n",
       "    <tr>\n",
       "      <th>1</th>\n",
       "      <td>NaN</td>\n",
       "      <td>위트콤공장</td>\n",
       "      <td>운영중</td>\n",
       "      <td>서울특별시 서초구 방배로 110 석교빌딩 4층</td>\n",
       "      <td>0.00000000</td>\n",
       "      <td>0.00000000</td>\n",
       "    </tr>\n",
       "  </tbody>\n",
       "</table>\n",
       "</div>"
      ],
      "text/plain": [
       "   대여소번호    대여소   상태                         주소          위도          경도\n",
       "0    NaN    위트콤  운영중      서울특별시 서초구 방배로 110 위트콤  0.00000000  0.00000000\n",
       "1    NaN  위트콤공장  운영중  서울특별시 서초구 방배로 110 석교빌딩 4층  0.00000000  0.00000000"
      ]
     },
     "execution_count": 10,
     "metadata": {},
     "output_type": "execute_result"
    }
   ],
   "source": [
    "df.head()"
   ]
  },
  {
   "cell_type": "code",
   "execution_count": 11,
   "metadata": {},
   "outputs": [
    {
     "data": {
      "text/html": [
       "<div>\n",
       "<style scoped>\n",
       "    .dataframe tbody tr th:only-of-type {\n",
       "        vertical-align: middle;\n",
       "    }\n",
       "\n",
       "    .dataframe tbody tr th {\n",
       "        vertical-align: top;\n",
       "    }\n",
       "\n",
       "    .dataframe thead th {\n",
       "        text-align: right;\n",
       "    }\n",
       "</style>\n",
       "<table border=\"1\" class=\"dataframe\">\n",
       "  <thead>\n",
       "    <tr style=\"text-align: right;\">\n",
       "      <th></th>\n",
       "      <th>대여소번호</th>\n",
       "      <th>대여소</th>\n",
       "      <th>상태</th>\n",
       "      <th>주소</th>\n",
       "      <th>위도</th>\n",
       "      <th>경도</th>\n",
       "    </tr>\n",
       "  </thead>\n",
       "  <tbody>\n",
       "    <tr>\n",
       "      <th>0</th>\n",
       "      <td>NaN</td>\n",
       "      <td>위트콤</td>\n",
       "      <td>운영중</td>\n",
       "      <td>서울특별시 서초구 방배로 110 위트콤</td>\n",
       "      <td>0.00000000</td>\n",
       "      <td>0.00000000</td>\n",
       "    </tr>\n",
       "    <tr>\n",
       "      <th>1</th>\n",
       "      <td>NaN</td>\n",
       "      <td>위트콤공장</td>\n",
       "      <td>운영중</td>\n",
       "      <td>서울특별시 서초구 방배로 110 석교빌딩 4층</td>\n",
       "      <td>0.00000000</td>\n",
       "      <td>0.00000000</td>\n",
       "    </tr>\n",
       "  </tbody>\n",
       "</table>\n",
       "</div>"
      ],
      "text/plain": [
       "   대여소번호    대여소   상태                         주소          위도          경도\n",
       "0    NaN    위트콤  운영중      서울특별시 서초구 방배로 110 위트콤  0.00000000  0.00000000\n",
       "1    NaN  위트콤공장  운영중  서울특별시 서초구 방배로 110 석교빌딩 4층  0.00000000  0.00000000"
      ]
     },
     "execution_count": 11,
     "metadata": {},
     "output_type": "execute_result"
    }
   ],
   "source": [
    "df.tail()"
   ]
  },
  {
   "cell_type": "code",
   "execution_count": 12,
   "metadata": {},
   "outputs": [],
   "source": [
    "df.to_csv('bike_rent_station.csv', index=False)"
   ]
  },
  {
   "cell_type": "code",
   "execution_count": 13,
   "metadata": {},
   "outputs": [
    {
     "data": {
      "text/html": [
       "<div>\n",
       "<style scoped>\n",
       "    .dataframe tbody tr th:only-of-type {\n",
       "        vertical-align: middle;\n",
       "    }\n",
       "\n",
       "    .dataframe tbody tr th {\n",
       "        vertical-align: top;\n",
       "    }\n",
       "\n",
       "    .dataframe thead th {\n",
       "        text-align: right;\n",
       "    }\n",
       "</style>\n",
       "<table border=\"1\" class=\"dataframe\">\n",
       "  <thead>\n",
       "    <tr style=\"text-align: right;\">\n",
       "      <th></th>\n",
       "      <th>대여소번호</th>\n",
       "      <th>대여소</th>\n",
       "      <th>상태</th>\n",
       "      <th>주소</th>\n",
       "      <th>위도</th>\n",
       "      <th>경도</th>\n",
       "    </tr>\n",
       "  </thead>\n",
       "  <tbody>\n",
       "    <tr>\n",
       "      <th>0</th>\n",
       "      <td>NaN</td>\n",
       "      <td>위트콤</td>\n",
       "      <td>운영중</td>\n",
       "      <td>서울특별시 서초구 방배로 110 위트콤</td>\n",
       "      <td>0.0</td>\n",
       "      <td>0.0</td>\n",
       "    </tr>\n",
       "    <tr>\n",
       "      <th>1</th>\n",
       "      <td>NaN</td>\n",
       "      <td>위트콤공장</td>\n",
       "      <td>운영중</td>\n",
       "      <td>서울특별시 서초구 방배로 110 석교빌딩 4층</td>\n",
       "      <td>0.0</td>\n",
       "      <td>0.0</td>\n",
       "    </tr>\n",
       "  </tbody>\n",
       "</table>\n",
       "</div>"
      ],
      "text/plain": [
       "   대여소번호    대여소   상태                         주소   위도   경도\n",
       "0    NaN    위트콤  운영중      서울특별시 서초구 방배로 110 위트콤  0.0  0.0\n",
       "1    NaN  위트콤공장  운영중  서울특별시 서초구 방배로 110 석교빌딩 4층  0.0  0.0"
      ]
     },
     "execution_count": 13,
     "metadata": {},
     "output_type": "execute_result"
    }
   ],
   "source": [
    "# 파일이 제대로 생성되었는지 확인\n",
    "pd.read_csv('bike_rent_station.csv').head()"
   ]
  },
  {
   "cell_type": "code",
   "execution_count": null,
   "metadata": {},
   "outputs": [],
   "source": []
  },
  {
   "cell_type": "code",
   "execution_count": null,
   "metadata": {},
   "outputs": [],
   "source": []
  },
  {
   "cell_type": "code",
   "execution_count": null,
   "metadata": {},
   "outputs": [],
   "source": []
  },
  {
   "cell_type": "code",
   "execution_count": null,
   "metadata": {},
   "outputs": [],
   "source": []
  },
  {
   "cell_type": "code",
   "execution_count": null,
   "metadata": {},
   "outputs": [],
   "source": []
  }
 ],
 "metadata": {
  "kernelspec": {
   "display_name": "Python 3",
   "language": "python",
   "name": "python3"
  },
  "language_info": {
   "codemirror_mode": {
    "name": "ipython",
    "version": 3
   },
   "file_extension": ".py",
   "mimetype": "text/x-python",
   "name": "python",
   "nbconvert_exporter": "python",
   "pygments_lexer": "ipython3",
   "version": "3.7.3"
  }
 },
 "nbformat": 4,
 "nbformat_minor": 2
}
